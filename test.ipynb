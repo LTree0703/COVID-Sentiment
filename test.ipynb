{
 "cells": [
  {
   "cell_type": "code",
   "execution_count": 13,
   "metadata": {},
   "outputs": [
    {
     "name": "stdout",
     "output_type": "stream",
     "text": [
      "                                               tweet label\n",
      "0  Coronavirus | Human Coronavirus Types | CDC ht...   neu\n",
      "1  @shehryar_taseer That‚Äôs üíØ true , \\nCorona...   neu\n",
      "2  TLDR: Not SARS, possibly new coronavirus. Diff...   neg\n",
      "3  Disease outbreak news from the WHO: Middle Eas...   neu\n",
      "4  China - Media: WSJ says sources tell them myst...   neu\n"
     ]
    }
   ],
   "source": [
    "import pandas as pd\n",
    "import re\n",
    "\n",
    "cur = 'A'\n",
    "df = pd.read_csv(f'data/COVIDSenti-{cur}.csv')\n",
    "print(df.head())"
   ]
  },
  {
   "cell_type": "code",
   "execution_count": 14,
   "metadata": {},
   "outputs": [
    {
     "data": {
      "text/plain": [
       "neu    22949\n",
       "neg     5083\n",
       "pos     1968\n",
       "Name: label, dtype: int64"
      ]
     },
     "execution_count": 14,
     "metadata": {},
     "output_type": "execute_result"
    }
   ],
   "source": [
    "df['label'].value_counts()"
   ]
  },
  {
   "cell_type": "code",
   "execution_count": 15,
   "metadata": {},
   "outputs": [],
   "source": [
    "df['label'] = df['label'].replace({'pos': 1, 'neu': 0, 'neg': -1})"
   ]
  },
  {
   "cell_type": "code",
   "execution_count": 16,
   "metadata": {},
   "outputs": [],
   "source": [
    "X, y = df['tweet'], df['label']"
   ]
  },
  {
   "cell_type": "code",
   "execution_count": 17,
   "metadata": {},
   "outputs": [
    {
     "data": {
      "text/plain": [
       "0    coronavirus | human coronavirus types | cdc ht...\n",
       "1    @shehryar_taseer that‚äôs üíø true , \\ncorona...\n",
       "2    tldr: not sars, possibly new coronavirus. diff...\n",
       "3    disease outbreak news from the who: middle eas...\n",
       "4    china - media: wsj says sources tell them myst...\n",
       "Name: tweet, dtype: object"
      ]
     },
     "execution_count": 17,
     "metadata": {},
     "output_type": "execute_result"
    }
   ],
   "source": [
    "X = X.apply(lambda x: x.lower())\n",
    "X.head()"
   ]
  },
  {
   "cell_type": "code",
   "execution_count": 18,
   "metadata": {},
   "outputs": [
    {
     "data": {
      "text/plain": [
       "0        coronavirus | human coronavirus types | cdc  \n",
       "1      that‚äôs üíø true , \\ncorona virus \\nswine ...\n",
       "2    tldr: not sars, possibly new coronavirus. diff...\n",
       "3    disease outbreak news from the who: middle eas...\n",
       "4    china - media: wsj says sources tell them myst...\n",
       "Name: tweet, dtype: object"
      ]
     },
     "execution_count": 18,
     "metadata": {},
     "output_type": "execute_result"
    }
   ],
   "source": [
    "# Remove urls\n",
    "def remove_urls(text):\n",
    "    url_pattern = r'http\\S+|www\\S+|https\\S+'\n",
    "    return re.sub(url_pattern, ' ', text, flags=re.MULTILINE)\n",
    "X = X.apply(remove_urls)\n",
    "\n",
    "# Remove mentions\n",
    "def remove_mentions(text):\n",
    "    mention_pattern = r'@\\w+'\n",
    "    return re.sub(mention_pattern, ' ', text)\n",
    "X = X.apply(remove_mentions)\n",
    "\n",
    "X.head()"
   ]
  },
  {
   "cell_type": "code",
   "execution_count": 19,
   "metadata": {},
   "outputs": [
    {
     "data": {
      "text/plain": [
       "0              coronavirus human coronavirus types cdc\n",
       "1    that s true corona virus swine flue bird flu i...\n",
       "2    tldr not sars possibly new coronavirus difficu...\n",
       "3    disease outbreak news from the who middle east...\n",
       "4    china media wsj says sources tell them mystery...\n",
       "Name: tweet, dtype: object"
      ]
     },
     "execution_count": 19,
     "metadata": {},
     "output_type": "execute_result"
    }
   ],
   "source": [
    "# Remove newlines\n",
    "X = X.replace(r'\\n', ' ', regex=True)\n",
    "\n",
    "# Remove special characters\n",
    "def remove_special_characters(text):\n",
    "    special_char_pattern = r'[^a-zA-Z0-9\\s]'\n",
    "    return re.sub(special_char_pattern, ' ', text)\n",
    "X = X.apply(remove_special_characters)\n",
    "\n",
    "# Remove extra numbers\n",
    "def remove_numbers(text):\n",
    "    return re.sub(r'\\d+', ' ', text)\n",
    "X = X.apply(remove_numbers)\n",
    "\n",
    "# Remove extra spaces\n",
    "def remove_extra_spaces(text):\n",
    "    return re.sub(r'\\s+', ' ', text).strip()\n",
    "X = X.apply(remove_extra_spaces)\n",
    "\n",
    "X.head()"
   ]
  },
  {
   "cell_type": "code",
   "execution_count": 20,
   "metadata": {},
   "outputs": [],
   "source": [
    "# Spelling correction\n",
    "# from textblob import TextBlob\n",
    "# def correct_spelling(text):\n",
    "#     return str(TextBlob(text).correct())\n",
    "\n",
    "# X = X.apply(correct_spelling)\n",
    "# X.head()"
   ]
  },
  {
   "cell_type": "code",
   "execution_count": 21,
   "metadata": {},
   "outputs": [
    {
     "name": "stderr",
     "output_type": "stream",
     "text": [
      "[nltk_data] Downloading package punkt_tab to /Users/ltree/nltk_data...\n",
      "[nltk_data]   Package punkt_tab is already up-to-date!\n",
      "[nltk_data] Downloading package stopwords to /Users/ltree/nltk_data...\n",
      "[nltk_data]   Package stopwords is already up-to-date!\n"
     ]
    },
    {
     "data": {
      "text/plain": [
       "0              coronavirus human coronavirus types cdc\n",
       "1    true corona virus swine flue bird flu december...\n",
       "2    tldr sars possibly new coronavirus difficult c...\n",
       "3    disease outbreak news middle east respiratory ...\n",
       "4    china media wsj says sources tell mystery pneu...\n",
       "Name: tweet, dtype: object"
      ]
     },
     "execution_count": 21,
     "metadata": {},
     "output_type": "execute_result"
    }
   ],
   "source": [
    "# Remove stop words\n",
    "from nltk.corpus import stopwords\n",
    "from nltk.tokenize import word_tokenize\n",
    "import nltk\n",
    "nltk.download('punkt_tab')\n",
    "nltk.download('stopwords')\n",
    "\n",
    "stop_words = set(stopwords.words('english'))\n",
    "def remove_stop_words(text):\n",
    "    word_tokens = word_tokenize(text)\n",
    "    return ' '.join([word for word in word_tokens if word not in stop_words])\n",
    "\n",
    "X = X.apply(remove_stop_words)\n",
    "X.head()"
   ]
  },
  {
   "cell_type": "code",
   "execution_count": 22,
   "metadata": {},
   "outputs": [
    {
     "name": "stderr",
     "output_type": "stream",
     "text": [
      "[nltk_data] Downloading package wordnet to /Users/ltree/nltk_data...\n",
      "[nltk_data]   Package wordnet is already up-to-date!\n",
      "[nltk_data] Downloading package omw-1.4 to /Users/ltree/nltk_data...\n",
      "[nltk_data]   Package omw-1.4 is already up-to-date!\n"
     ]
    },
    {
     "data": {
      "text/plain": [
       "0               coronavirus human coronavirus type cdc\n",
       "1    true corona virus swine flue bird flu december...\n",
       "2    tldr sars possibly new coronavirus difficult c...\n",
       "3    disease outbreak news middle east respiratory ...\n",
       "4    china medium wsj say source tell mystery pneum...\n",
       "Name: tweet, dtype: object"
      ]
     },
     "execution_count": 22,
     "metadata": {},
     "output_type": "execute_result"
    }
   ],
   "source": [
    "# Lemmatization\n",
    "from nltk.stem import WordNetLemmatizer\n",
    "nltk.download('wordnet')\n",
    "nltk.download('omw-1.4')\n",
    "\n",
    "lemmatizer = WordNetLemmatizer()\n",
    "def lemmatize_text(text):\n",
    "    word_tokens = word_tokenize(text)\n",
    "    return ' '.join([lemmatizer.lemmatize(word) for word in word_tokens])\n",
    "\n",
    "X = X.apply(lemmatize_text)\n",
    "X.head()"
   ]
  },
  {
   "cell_type": "code",
   "execution_count": 23,
   "metadata": {},
   "outputs": [],
   "source": [
    "new_df = pd.DataFrame({'tweet': X, 'label': y})\n",
    "new_df.to_csv(f'data/clean_COVIDSenti-{cur}.csv', index=False)"
   ]
  }
 ],
 "metadata": {
  "kernelspec": {
   "display_name": "base",
   "language": "python",
   "name": "python3"
  },
  "language_info": {
   "codemirror_mode": {
    "name": "ipython",
    "version": 3
   },
   "file_extension": ".py",
   "mimetype": "text/x-python",
   "name": "python",
   "nbconvert_exporter": "python",
   "pygments_lexer": "ipython3",
   "version": "3.10.13"
  }
 },
 "nbformat": 4,
 "nbformat_minor": 2
}
